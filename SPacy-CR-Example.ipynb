{
 "cells": [
  {
   "cell_type": "markdown",
   "metadata": {},
   "source": [
    "### CR with Spacy - Example"
   ]
  },
  {
   "cell_type": "markdown",
   "metadata": {},
   "source": []
  },
  {
   "cell_type": "code",
   "execution_count": 1,
   "metadata": {},
   "outputs": [],
   "source": [
    "import json, logging, sys\n",
    "import pandas as pd"
   ]
  },
  {
   "cell_type": "code",
   "execution_count": 2,
   "metadata": {},
   "outputs": [],
   "source": [
    "ner_file = \"spaCy_data/se_ner_annotated.tsv\"\n",
    "df_data = pd.read_csv(ner_file,sep=\"\\t\",encoding=\"latin1\").fillna(method='ffill')"
   ]
  },
  {
   "cell_type": "code",
   "execution_count": 3,
   "metadata": {},
   "outputs": [],
   "source": [
    "df_data = df_data[['Word', 'Tag']]\n",
    "df_data.to_csv('spaCy_data/spacy_ner.tsv', sep='\\t',index=False)"
   ]
  },
  {
   "cell_type": "code",
   "execution_count": 4,
   "metadata": {},
   "outputs": [],
   "source": [
    "# Convert .tsv file to dataturks json format. \n",
    "\n",
    "def tsv_to_json_format(input_path,output_path,unknown_label):\n",
    "    \n",
    "    try:\n",
    "        f=open(input_path,'r') # input file\n",
    "        fp=open(output_path, 'w') # output file\n",
    "        data_dict={}\n",
    "        annotations =[]\n",
    "        label_dict={}\n",
    "        s=''\n",
    "        start=0\n",
    "        for line in f:\n",
    "            if line[0:len(line)-1]!='.\\tO':\n",
    "                word,entity=line.split('\\t')\n",
    "                s+=word+\" \"\n",
    "                entity=entity[:len(entity)-1]\n",
    "                if entity!=unknown_label:\n",
    "                    if len(entity) != 1:\n",
    "                        d={}\n",
    "                        d['text']=word\n",
    "                        d['start']=start\n",
    "                        d['end']=start+len(word)-1  \n",
    "                        try:\n",
    "                            label_dict[entity].append(d)\n",
    "                        except:\n",
    "                            label_dict[entity]=[]\n",
    "                            label_dict[entity].append(d) \n",
    "                start+=len(word)+1\n",
    "            else:\n",
    "                data_dict['content']=s\n",
    "                s=''\n",
    "                label_list=[]\n",
    "                for ents in list(label_dict.keys()):\n",
    "                    for i in range(len(label_dict[ents])):\n",
    "                        if(label_dict[ents][i]['text']!=''):\n",
    "                            l=[ents,label_dict[ents][i]]\n",
    "                            for j in range(i+1,len(label_dict[ents])): \n",
    "                                if(label_dict[ents][i]['text']==label_dict[ents][j]['text']):  \n",
    "                                    di={}\n",
    "                                    di['start']=label_dict[ents][j]['start']\n",
    "                                    di['end']=label_dict[ents][j]['end']\n",
    "                                    di['text']=label_dict[ents][i]['text']\n",
    "                                    l.append(di)\n",
    "                                    label_dict[ents][j]['text']=''\n",
    "                            label_list.append(l)                          \n",
    "                            \n",
    "                for entities in label_list:\n",
    "                    label={}\n",
    "                    label['label']=[entities[0]]\n",
    "                    label['points']=entities[1:]\n",
    "                    annotations.append(label)\n",
    "                data_dict['annotation']=annotations\n",
    "                annotations=[]\n",
    "                json.dump(data_dict, fp)\n",
    "                fp.write('\\n')\n",
    "                data_dict={}\n",
    "                start=0\n",
    "                label_dict={}\n",
    "    except Exception as e:\n",
    "        logging.exception(\"Unable to process file\" + \"\\n\" + \"error = \" + str(e))\n",
    "        return None\n",
    "\n",
    "tsv_to_json_format(\"spaCy_data/spacy_ner.tsv\",'spaCy_data/se_ner_spacy.json','abc')"
   ]
  },
  {
   "cell_type": "code",
   "execution_count": 5,
   "metadata": {},
   "outputs": [],
   "source": [
    "# Convert json file to spaCy format.\n",
    "import plac\n",
    "import logging\n",
    "import argparse\n",
    "import sys\n",
    "import os\n",
    "import json\n",
    "import pickle\n",
    "\n",
    "#@plac.annotations(input_file=(\"Input file\", \"option\", \"i\", str), output_file=(\"Output file\", \"option\", \"o\", str))\n",
    "\n",
    "def to_spacy_format(input_file=None, output_file=None):\n",
    "    try:\n",
    "        training_data = []\n",
    "        lines=[]\n",
    "        with open(input_file, 'r') as f:\n",
    "            lines = f.readlines()\n",
    "\n",
    "        for line in lines:\n",
    "            data = json.loads(line)\n",
    "            text = data['content']\n",
    "            entities = []\n",
    "            for annotation in data['annotation']:\n",
    "                point = annotation['points'][0]\n",
    "                labels = annotation['label']\n",
    "                if not isinstance(labels, list):\n",
    "                    labels = [labels]\n",
    "\n",
    "                for label in labels:\n",
    "                    entities.append((point['start'], point['end'] + 1 ,label))\n",
    "\n",
    "\n",
    "            training_data.append((text, {\"entities\" : entities}))\n",
    "\n",
    "        with open(output_file, 'wb') as fp:\n",
    "            pickle.dump(training_data, fp)\n",
    "\n",
    "    except Exception as e:\n",
    "        logging.exception(\"Unable to process \" + input_file + \"\\n\" + \"error = \" + str(e))\n",
    "        return None\n",
    "\n",
    "to_spacy_format('spaCy_data/se_ner_spacy.json', 'spaCy_data/se_ner_spacy_new.json')\n"
   ]
  },
  {
   "cell_type": "code",
   "execution_count": 6,
   "metadata": {},
   "outputs": [],
   "source": [
    "import spacy\n",
    "nlp = spacy.blank('en')  # create blank Language class\n",
    "ner = nlp.create_pipe('ner')"
   ]
  },
  {
   "cell_type": "code",
   "execution_count": 7,
   "metadata": {},
   "outputs": [
    {
     "data": {
      "text/plain": [
       "['O',\n",
       " 'B-syscon',\n",
       " 'B-grp',\n",
       " 'B-seterm',\n",
       " 'B-opcon',\n",
       " 'I-opcon',\n",
       " 'B-mea',\n",
       " 'I-mea',\n",
       " 'B-loc',\n",
       " 'I-loc',\n",
       " 'B-abb',\n",
       " 'I-grp',\n",
       " 'I-syscon',\n",
       " 'B-cardinal',\n",
       " 'B-org',\n",
       " 'I-org',\n",
       " 'B-event',\n",
       " 'I-event',\n",
       " 'I-seterm',\n",
       " 'I-abb',\n",
       " 'B-art']"
      ]
     },
     "execution_count": 7,
     "metadata": {},
     "output_type": "execute_result"
    }
   ],
   "source": [
    "list(df_data.Tag.unique())"
   ]
  },
  {
   "cell_type": "code",
   "execution_count": 8,
   "metadata": {},
   "outputs": [
    {
     "name": "stdout",
     "output_type": "stream",
     "text": [
      "3606\n"
     ]
    }
   ],
   "source": [
    "#!/usr/bin/env python\n",
    "# coding: utf8\n",
    "\n",
    "# Training additional entity types using spaCy\n",
    "from __future__ import unicode_literals, print_function\n",
    "import pickle\n",
    "import plac\n",
    "import random\n",
    "from pathlib import Path\n",
    "import spacy\n",
    "from spacy.util import minibatch, compounding\n",
    "\n",
    "\n",
    "# New entity labels\n",
    "# Specify the new entity labels which you want to add here\n",
    "LABEL = list(df_data.Tag.unique())\n",
    "\n",
    "# Loading training data \n",
    "with open ('spaCy_data/se_ner_spacy_new.json', 'rb') as fp:\n",
    "    TRAIN_DATA = pickle.load(fp)\n",
    "\n",
    "FULL_DATA = TRAIN_DATA\n",
    "num_of_examples = len(FULL_DATA)\n",
    "print(num_of_examples)"
   ]
  },
  {
   "cell_type": "code",
   "execution_count": 9,
   "metadata": {},
   "outputs": [],
   "source": [
    "TEST_DATA = FULL_DATA[int(num_of_examples*0.8):]\n",
    "TRAIN_DATA = FULL_DATA[:int(num_of_examples*0.8)]"
   ]
  },
  {
   "cell_type": "code",
   "execution_count": 10,
   "metadata": {},
   "outputs": [],
   "source": [
    "def train_2(model=None, new_model_name='spacy_cr', output_dir=\"spaCy_data\", n_iter=25):\n",
    "    \"\"\"Set up the pipeline and entity recognizer, and train the new entity.\"\"\"\n",
    "    if model is not None:\n",
    "        nlp = spacy.load(model)  # load existing spaCy model\n",
    "        print(\"Loaded model '%s'\" % model)\n",
    "    else:\n",
    "        nlp = spacy.blank('en')  # create blank Language class\n",
    "        print(\"Created blank 'en' model\")\n",
    "\n",
    "    # Add entity recognizer to model if it's not in the pipeline\n",
    "    # nlp.create_pipe works for built-ins that are registered with spaCy\n",
    "    if 'ner' not in nlp.pipe_names:\n",
    "        ner = nlp.create_pipe('ner')\n",
    "        nlp.add_pipe(ner)\n",
    "    # otherwise, get it, so we can add labels to it\n",
    "    else:\n",
    "        ner = nlp.get_pipe('ner')\n",
    "\n",
    "    \"\"\"ADD MULTIPLE LABELS TO NER MODEL\"\"\"\n",
    "    # add labels\n",
    "    for _, annotations in TRAIN_DATA:\n",
    "        for ent in annotations.get('entities'):\n",
    "            ner.add_label(ent[2])\n",
    "    \n",
    "    # get names of other pipes to disable them during training\n",
    "    other_pipes = [pipe for pipe in nlp.pipe_names if pipe != 'ner']\n",
    "    with nlp.disable_pipes(*other_pipes):  # only train NER\n",
    "        optimizer = nlp.begin_training()\n",
    "        for itn in range(n_iter):\n",
    "            random.shuffle(TRAIN_DATA)\n",
    "            losses = {}\n",
    "            for text, annotations in TRAIN_DATA:\n",
    "                nlp.update([text], [annotations], sgd=optimizer, drop=0.35,\n",
    "                           losses=losses)\n",
    "            print(losses)\n",
    "            \n",
    "    # test the trained model\n",
    "    test_text = 'Acceptable Risk is the risk that is understood and agreed to by the program/project.'\n",
    "    doc = nlp(test_text)\n",
    "    print(\"Entities in '%s'\" % test_text)\n",
    "    for i, ent in enumerate(doc.ents):\n",
    "        print(\"Entity number %s is %s in text: '%s'\" % (i, ent.label_, ent.text))\n",
    "\n",
    "    # save model to output directory\n",
    "    if output_dir is not None:\n",
    "        output_dir = Path(output_dir)\n",
    "        if not output_dir.exists():\n",
    "            output_dir.mkdir()\n",
    "        nlp.meta['name'] = new_model_name  # rename model\n",
    "        nlp.to_disk(output_dir)\n",
    "        print(\"Saved model to\", output_dir)\n",
    "\n",
    "        # test the saved model\n",
    "        print(\"Loading from\", output_dir)\n",
    "        nlp2 = spacy.load(output_dir)\n",
    "        doc2 = nlp2(test_text)\n",
    "        for ent in doc2.ents:\n",
    "            print(ent.label_, ent.text)"
   ]
  },
  {
   "cell_type": "code",
   "execution_count": 11,
   "metadata": {},
   "outputs": [
    {
     "name": "stdout",
     "output_type": "stream",
     "text": [
      "Created blank 'en' model\n",
      "{'ner': 9102.066369072516}\n",
      "{'ner': 5363.53910399159}\n",
      "{'ner': 4601.456692442025}\n",
      "{'ner': 4290.486043255721}\n",
      "{'ner': 3812.5983096510145}\n",
      "{'ner': 3545.289167556115}\n",
      "{'ner': 3283.787138477605}\n",
      "{'ner': 3127.5881329122435}\n",
      "{'ner': 2921.274833429352}\n",
      "{'ner': 2838.875882211671}\n",
      "{'ner': 2674.8092282525263}\n",
      "{'ner': 2517.7672035375413}\n",
      "{'ner': 2449.2215016705995}\n",
      "{'ner': 2317.4224637877314}\n",
      "{'ner': 2226.2623050444117}\n",
      "{'ner': 2133.6803761870096}\n",
      "{'ner': 2221.6246143530943}\n",
      "{'ner': 2144.1063946379304}\n",
      "{'ner': 1954.9057893707222}\n",
      "{'ner': 2033.166076132395}\n",
      "{'ner': 1875.9221412862328}\n",
      "{'ner': 1934.8065849468621}\n",
      "{'ner': 1739.6350626578906}\n",
      "{'ner': 1794.2866389906062}\n",
      "{'ner': 1628.1831157038791}\n",
      "Entities in 'Acceptable Risk is the risk that is understood and agreed to by the program/project.'\n",
      "Entity number 0 is B-mea in text: 'Acceptable'\n",
      "Entity number 1 is I-mea in text: 'Risk'\n",
      "Entity number 2 is B-mea in text: 'risk'\n",
      "Entity number 3 is B-opcon in text: 'program'\n",
      "Entity number 4 is B-seterm in text: 'project'\n",
      "Saved model to spaCy_data\n",
      "Loading from spaCy_data\n",
      "B-mea Acceptable\n",
      "I-mea Risk\n",
      "B-mea risk\n",
      "B-opcon program\n",
      "B-seterm project\n"
     ]
    }
   ],
   "source": [
    "train_2()"
   ]
  },
  {
   "cell_type": "code",
   "execution_count": 14,
   "metadata": {},
   "outputs": [
    {
     "name": "stdout",
     "output_type": "stream",
     "text": [
      "{'uas': 0.0, 'las': 0.0, 'las_per_type': {'nsubj': {'p': 0.0, 'r': 0.0, 'f': 0.0}, 'aux': {'p': 0.0, 'r': 0.0, 'f': 0.0}, 'root': {'p': 0.0, 'r': 0.0, 'f': 0.0}, 'xcomp': {'p': 0.0, 'r': 0.0, 'f': 0.0}, 'acomp': {'p': 0.0, 'r': 0.0, 'f': 0.0}, 'prep': {'p': 0.0, 'r': 0.0, 'f': 0.0}, 'det': {'p': 0.0, 'r': 0.0, 'f': 0.0}, 'amod': {'p': 0.0, 'r': 0.0, 'f': 0.0}, 'pobj': {'p': 0.0, 'r': 0.0, 'f': 0.0}, 'compound': {'p': 0.0, 'r': 0.0, 'f': 0.0}, 'conj': {'p': 0.0, 'r': 0.0, 'f': 0.0}, 'cc': {'p': 0.0, 'r': 0.0, 'f': 0.0}, 'attr': {'p': 0.0, 'r': 0.0, 'f': 0.0}, 'mark': {'p': 0.0, 'r': 0.0, 'f': 0.0}, 'advcl': {'p': 0.0, 'r': 0.0, 'f': 0.0}, 'dobj': {'p': 0.0, 'r': 0.0, 'f': 0.0}, 'dep': {'p': 0.0, 'r': 0.0, 'f': 0.0}, 'advmod': {'p': 0.0, 'r': 0.0, 'f': 0.0}, 'relcl': {'p': 0.0, 'r': 0.0, 'f': 0.0}, 'pcomp': {'p': 0.0, 'r': 0.0, 'f': 0.0}, 'acl': {'p': 0.0, 'r': 0.0, 'f': 0.0}, 'ccomp': {'p': 0.0, 'r': 0.0, 'f': 0.0}, 'nsubjpass': {'p': 0.0, 'r': 0.0, 'f': 0.0}, 'auxpass': {'p': 0.0, 'r': 0.0, 'f': 0.0}, 'prt': {'p': 0.0, 'r': 0.0, 'f': 0.0}, 'quantmod': {'p': 0.0, 'r': 0.0, 'f': 0.0}, 'nummod': {'p': 0.0, 'r': 0.0, 'f': 0.0}, 'npadvmod': {'p': 0.0, 'r': 0.0, 'f': 0.0}, 'neg': {'p': 0.0, 'r': 0.0, 'f': 0.0}, 'nmod': {'p': 0.0, 'r': 0.0, 'f': 0.0}, 'agent': {'p': 0.0, 'r': 0.0, 'f': 0.0}, 'predet': {'p': 0.0, 'r': 0.0, 'f': 0.0}, 'poss': {'p': 0.0, 'r': 0.0, 'f': 0.0}, 'expl': {'p': 0.0, 'r': 0.0, 'f': 0.0}, 'preconj': {'p': 0.0, 'r': 0.0, 'f': 0.0}, 'appos': {'p': 0.0, 'r': 0.0, 'f': 0.0}, 'csubj': {'p': 0.0, 'r': 0.0, 'f': 0.0}, 'csubjpass': {'p': 0.0, 'r': 0.0, 'f': 0.0}, 'oprd': {'p': 0.0, 'r': 0.0, 'f': 0.0}, 'case': {'p': 0.0, 'r': 0.0, 'f': 0.0}, 'intj': {'p': 0.0, 'r': 0.0, 'f': 0.0}, 'meta': {'p': 0.0, 'r': 0.0, 'f': 0.0}, 'dative': {'p': 0.0, 'r': 0.0, 'f': 0.0}, 'parataxis': {'p': 0.0, 'r': 0.0, 'f': 0.0}}, 'ents_p': 0.0, 'ents_r': 0.0, 'ents_f': 0.0, 'ents_per_type': {'I-opcon': {'p': 0.0, 'r': 0.0, 'f': 0.0}, 'B-mea': {'p': 0.0, 'r': 0.0, 'f': 0.0}, 'B-seterm': {'p': 0.0, 'r': 0.0, 'f': 0.0}, 'PRODUCT': {'p': 0.0, 'r': 0.0, 'f': 0.0}, 'B-opcon': {'p': 0.0, 'r': 0.0, 'f': 0.0}, 'ORG': {'p': 0.0, 'r': 0.0, 'f': 0.0}, 'GPE': {'p': 0.0, 'r': 0.0, 'f': 0.0}, 'B-syscon': {'p': 0.0, 'r': 0.0, 'f': 0.0}, 'PERSON': {'p': 0.0, 'r': 0.0, 'f': 0.0}, 'MONEY': {'p': 0.0, 'r': 0.0, 'f': 0.0}, 'DATE': {'p': 0.0, 'r': 0.0, 'f': 0.0}, 'LOC': {'p': 0.0, 'r': 0.0, 'f': 0.0}, 'B-cardinal': {'p': 0.0, 'r': 0.0, 'f': 0.0}, 'CARDINAL': {'p': 0.0, 'r': 0.0, 'f': 0.0}, 'QUANTITY': {'p': 0.0, 'r': 0.0, 'f': 0.0}, 'I-event': {'p': 0.0, 'r': 0.0, 'f': 0.0}, 'B-event': {'p': 0.0, 'r': 0.0, 'f': 0.0}, 'WORK_OF_ART': {'p': 0.0, 'r': 0.0, 'f': 0.0}, 'B-grp': {'p': 0.0, 'r': 0.0, 'f': 0.0}, 'I-seterm': {'p': 0.0, 'r': 0.0, 'f': 0.0}, 'B-org': {'p': 0.0, 'r': 0.0, 'f': 0.0}, 'I-syscon': {'p': 0.0, 'r': 0.0, 'f': 0.0}, 'B-abb': {'p': 0.0, 'r': 0.0, 'f': 0.0}, 'I-mea': {'p': 0.0, 'r': 0.0, 'f': 0.0}, 'I-grp': {'p': 0.0, 'r': 0.0, 'f': 0.0}, 'B-art': {'p': 0.0, 'r': 0.0, 'f': 0.0}, 'I-org': {'p': 0.0, 'r': 0.0, 'f': 0.0}, 'NORP': {'p': 0.0, 'r': 0.0, 'f': 0.0}, 'I-abb': {'p': 0.0, 'r': 0.0, 'f': 0.0}, 'ORDINAL': {'p': 0.0, 'r': 0.0, 'f': 0.0}, 'LAW': {'p': 0.0, 'r': 0.0, 'f': 0.0}}, 'tags_acc': 0.0, 'token_acc': 100.0, 'textcat_score': 0.0, 'textcats_per_cat': {}}\n"
     ]
    }
   ],
   "source": [
    "import spacy\n",
    "from spacy.gold import GoldParse\n",
    "from spacy.scorer import Scorer\n",
    "\n",
    "def evaluate(ner_model, examples):\n",
    "    scorer = Scorer()\n",
    "    for input_, annot in examples:\n",
    "        doc_gold_text = ner_model.make_doc(input_)\n",
    "        gold = GoldParse(doc_gold_text, entities=annot['entities'])\n",
    "        pred_value = ner_model(input_)\n",
    "        scorer.score(pred_value, gold)\n",
    "    return scorer.scores\n",
    "\n",
    "# for spaCy's pretrained use 'en_core_web_sm' or 'en_core_web_lg'\n",
    "#ner_model = spacy.load('spaCy_data') \n",
    "ner_model = spacy.load('en_core_web_lg') \n",
    "results = evaluate(ner_model, TEST_DATA)\n",
    "print(results)"
   ]
  },
  {
   "cell_type": "code",
   "execution_count": 15,
   "metadata": {},
   "outputs": [
    {
     "name": "stdout",
     "output_type": "stream",
     "text": [
      "{'uas': 0.0, 'las': 0.0, 'las_per_type': {'': {'p': 0.0, 'r': 0.0, 'f': 0.0}}, 'ents_p': 88.06068601583114, 'ents_r': 90.4471544715447, 'ents_f': 89.2379679144385, 'ents_per_type': {'B-seterm': {'p': 91.38576779026218, 'r': 96.06299212598425, 'f': 93.66602687140114}, 'I-opcon': {'p': 87.65822784810126, 'r': 73.47480106100795, 'f': 79.94227994227995}, 'B-opcon': {'p': 86.85897435897436, 'r': 92.41261722080137, 'f': 89.54977282114828}, 'B-mea': {'p': 90.54054054054053, 'r': 97.57281553398059, 'f': 93.9252336448598}, 'B-syscon': {'p': 85.95238095238096, 'r': 92.32736572890026, 'f': 89.02589395807645}, 'B-cardinal': {'p': 100.0, 'r': 100.0, 'f': 100.0}, 'I-event': {'p': 96.7741935483871, 'r': 73.17073170731707, 'f': 83.33333333333334}, 'B-event': {'p': 93.65079365079364, 'r': 96.72131147540983, 'f': 95.16129032258064}, 'B-grp': {'p': 92.74193548387096, 'r': 95.0413223140496, 'f': 93.87755102040816}, 'I-seterm': {'p': 100.0, 'r': 75.0, 'f': 85.71428571428571}, 'I-syscon': {'p': 77.77777777777779, 'r': 83.5820895522388, 'f': 80.57553956834532}, 'B-org': {'p': 80.0, 'r': 80.0, 'f': 80.00000000000001}, 'B-abb': {'p': 87.75510204081633, 'r': 100.0, 'f': 93.47826086956522}, 'I-mea': {'p': 100.0, 'r': 89.13043478260869, 'f': 94.25287356321839}, 'I-grp': {'p': 81.48148148148148, 'r': 81.48148148148148, 'f': 81.48148148148148}, 'B-art': {'p': 0.0, 'r': 0.0, 'f': 0.0}, 'I-org': {'p': 100.0, 'r': 20.0, 'f': 33.333333333333336}, 'I-abb': {'p': 81.08108108108108, 'r': 100.0, 'f': 89.55223880597015}}, 'tags_acc': 0.0, 'token_acc': 100.0, 'textcat_score': 0.0, 'textcats_per_cat': {}}\n"
     ]
    }
   ],
   "source": [
    "ner_model = spacy.load('spaCy_data') \n",
    "results = evaluate(ner_model, TEST_DATA)\n",
    "print(results)"
   ]
  },
  {
   "cell_type": "markdown",
   "metadata": {},
   "source": [
    "### References: "
   ]
  },
  {
   "cell_type": "markdown",
   "metadata": {},
   "source": [
    "https://towardsdatascience.com/custom-named-entity-recognition-using-spacy-7140ebbb3718\n",
    "https://timkuhn.github.io/TextMining/spacy/ner/2018/01/24/spaCy_NER_Training.html"
   ]
  }
 ],
 "metadata": {
  "kernelspec": {
   "display_name": "Python 3",
   "language": "python",
   "name": "python3"
  },
  "language_info": {
   "codemirror_mode": {
    "name": "ipython",
    "version": 3
   },
   "file_extension": ".py",
   "mimetype": "text/x-python",
   "name": "python",
   "nbconvert_exporter": "python",
   "pygments_lexer": "ipython3",
   "version": "3.8.5"
  }
 },
 "nbformat": 4,
 "nbformat_minor": 2
}
